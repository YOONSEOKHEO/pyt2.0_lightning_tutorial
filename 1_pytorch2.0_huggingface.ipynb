{
 "cells": [
  {
   "cell_type": "markdown",
   "id": "f83ce796-10cb-437a-b0da-de3573c5afe7",
   "metadata": {},
   "source": [
    "## 0. Introduction\n",
    "* This notebook is a tutorial for Pytorch2.0 and Huggingface Transformers.  \n",
    "* URL: https://www.philschmid.de/getting-started-pytorch-2-0-transformers  \n"
   ]
  },
  {
   "cell_type": "markdown",
   "id": "04fd5bae-d87b-430e-a50c-a105b30e60a8",
   "metadata": {},
   "source": [
    "## 1. Setup environment & install Pytorch 2.0\n",
    "* conda create -n pyt2.0 python==3.8\n",
    "* use install.sh (bash install.sh)"
   ]
  },
  {
   "cell_type": "markdown",
   "id": "95d14c1f-3ba3-4be7-95a7-478ab6007d0b",
   "metadata": {},
   "source": [
    "## 2. Load and prepare the dataset\n",
    "* To keep the example straightforward, we are training a Text Classification model on the <span style=\"font-weight: bold;\">BANKING77</span> dataset.  \n",
    "  The BANKING77 dataset provides a fine-grained set of intents (classes) in a banking/finance domain.  \n",
    "  It comprises 13,083 customer service queries labeled with 77 intents.  \n",
    "  It focuses on fine-grained single-domain intent detection."
   ]
  },
  {
   "cell_type": "code",
   "execution_count": 5,
   "id": "c43185f3-1495-4be0-8373-c7c619d74635",
   "metadata": {},
   "outputs": [],
   "source": [
    "from datasets import load_dataset\n"
   ]
  },
  {
   "cell_type": "code",
   "execution_count": 7,
   "id": "7674365e-c123-4d26-b0b2-0ebb13a40c57",
   "metadata": {
    "tags": []
   },
   "outputs": [
    {
     "name": "stderr",
     "output_type": "stream",
     "text": [
      "Downloading builder script: 100%|█████████████████████████████████████████████████████████████████| 7.31k/7.31k [00:00<00:00, 2.02MB/s]\n",
      "Downloading metadata: 100%|███████████████████████████████████████████████████████████████████████| 5.89k/5.89k [00:00<00:00, 2.46MB/s]\n",
      "Downloading readme: 100%|█████████████████████████████████████████████████████████████████████████| 13.8k/13.8k [00:00<00:00, 4.73MB/s]\n"
     ]
    },
    {
     "name": "stdout",
     "output_type": "stream",
     "text": [
      "Downloading and preparing dataset banking77/default to /home/nlpgpu8/.cache/huggingface/datasets/banking77/default/1.1.0/ff44c4421d7e70aa810b0fa79d36908a38b87aff8125d002cd44f7fcd31f493c...\n"
     ]
    },
    {
     "name": "stderr",
     "output_type": "stream",
     "text": [
      "Downloading data: 839kB [00:00, 40.8MB/s]                                                                                              \n",
      "Downloading data: 240kB [00:00, 42.8MB/s]                                                                                              \n",
      "                                                                                                                                       \r"
     ]
    },
    {
     "name": "stdout",
     "output_type": "stream",
     "text": [
      "Dataset banking77 downloaded and prepared to /home/nlpgpu8/.cache/huggingface/datasets/banking77/default/1.1.0/ff44c4421d7e70aa810b0fa79d36908a38b87aff8125d002cd44f7fcd31f493c. Subsequent calls will reuse this data.\n"
     ]
    },
    {
     "name": "stderr",
     "output_type": "stream",
     "text": [
      "100%|███████████████████████████████████████████████████████████████████████████████████████████████████| 2/2 [00:00<00:00, 752.27it/s]"
     ]
    },
    {
     "name": "stdout",
     "output_type": "stream",
     "text": [
      "Train dataset size: 10003\n",
      "Test dataset size: 3080\n"
     ]
    },
    {
     "name": "stderr",
     "output_type": "stream",
     "text": [
      "\n"
     ]
    }
   ],
   "source": [
    "dataset_id = \"banking77\"\n",
    "\n",
    "raw_dataset = load_dataset(dataset_id)\n",
    "print(f\"Train dataset size: {len(raw_dataset['train'])}\")\n",
    "print(f\"Test dataset size: {len(raw_dataset['test'])}\")"
   ]
  },
  {
   "cell_type": "code",
   "execution_count": 8,
   "id": "8b481aa2-6d46-4eed-96fc-5529627d38df",
   "metadata": {
    "tags": []
   },
   "outputs": [
    {
     "data": {
      "text/plain": [
       "{'text': 'My account says there are pending funds right now from withdrawing from an ATM, but my card was declined and I never took out any money. When will that money be deposited back into my account?',\n",
       " 'label': 46}"
      ]
     },
     "execution_count": 8,
     "metadata": {},
     "output_type": "execute_result"
    }
   ],
   "source": [
    "from random import randrange\n",
    "\n",
    "random_id = randrange(len(raw_dataset['train']))\n",
    "raw_dataset['train'][random_id]"
   ]
  },
  {
   "cell_type": "code",
   "execution_count": null,
   "id": "5d482d87-dc0f-4c43-88ad-57e5b05b46ad",
   "metadata": {},
   "outputs": [],
   "source": []
  }
 ],
 "metadata": {
  "kernelspec": {
   "display_name": "Python 3 (ipykernel)",
   "language": "python",
   "name": "python3"
  },
  "language_info": {
   "codemirror_mode": {
    "name": "ipython",
    "version": 3
   },
   "file_extension": ".py",
   "mimetype": "text/x-python",
   "name": "python",
   "nbconvert_exporter": "python",
   "pygments_lexer": "ipython3",
   "version": "3.8.0"
  }
 },
 "nbformat": 4,
 "nbformat_minor": 5
}
